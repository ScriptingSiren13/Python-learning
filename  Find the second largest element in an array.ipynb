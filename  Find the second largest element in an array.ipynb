{
 "cells": [
  {
   "cell_type": "markdown",
   "id": "6405b421-44bc-4b54-a11b-704829c5e295",
   "metadata": {},
   "source": [
    "<h3 style=\"color:#DE006F\">FOR A PREDEFINED ARRAY</h3>"
   ]
  },
  {
   "cell_type": "code",
   "execution_count": 4,
   "id": "318af1c3-ec0b-4542-b26e-6ce534de584f",
   "metadata": {},
   "outputs": [
    {
     "name": "stdout",
     "output_type": "stream",
     "text": [
      "4\n"
     ]
    }
   ],
   "source": [
    "def sec_largest(arr):\n",
    "    n=len(arr)\n",
    "    \n",
    "    # Bubble sort algorithm\n",
    "    for i in range(n):\n",
    "        for j in range(n-i-1):\n",
    "            if arr[j] > arr[j+1]:\n",
    "                arr[j],arr[j+1]=arr[j+1],arr[j]\n",
    "\n",
    "    return arr[-2]\n",
    "\n",
    "arr=[2,6,3,4]\n",
    "print(sec_largest(arr))"
   ]
  },
  {
   "cell_type": "markdown",
   "id": "53412296-a814-4f06-91c9-ab44b6687b5b",
   "metadata": {},
   "source": [
    "<h3 style=\"color:#DE006F\">TAKING THE ARRAY ELEMENTS FROM THE USER:</h3>"
   ]
  },
  {
   "cell_type": "code",
   "execution_count": 3,
   "id": "5b0ab894-5a77-444f-881c-b6131256b930",
   "metadata": {},
   "outputs": [
    {
     "name": "stdin",
     "output_type": "stream",
     "text": [
      "enter the elements of an array seperated by spaces 4 6 2 1\n"
     ]
    },
    {
     "name": "stdout",
     "output_type": "stream",
     "text": [
      "4\n"
     ]
    }
   ],
   "source": [
    "def sec_largest(arr):\n",
    "    n=len(arr);\n",
    "    for i in range(n):\n",
    "        for j in range(n-i-1):\n",
    "            if arr[j] > arr[j+1]:\n",
    "                arr[j],arr[j+1]=arr[j+1],arr[j]\n",
    "    return arr[-2]\n",
    "\n",
    "user_input=input('enter the elements of an array seperated by spaces')\n",
    "\n",
    "arr=list(map(int,user_input.split()))\n",
    "\n",
    "print(sec_largest(arr))"
   ]
  },
  {
   "cell_type": "code",
   "execution_count": null,
   "id": "0c23e905-37c5-455e-a832-2d9d13fd2cb0",
   "metadata": {},
   "outputs": [],
   "source": []
  }
 ],
 "metadata": {
  "kernelspec": {
   "display_name": "Python 3 (ipykernel)",
   "language": "python",
   "name": "python3"
  },
  "language_info": {
   "codemirror_mode": {
    "name": "ipython",
    "version": 3
   },
   "file_extension": ".py",
   "mimetype": "text/x-python",
   "name": "python",
   "nbconvert_exporter": "python",
   "pygments_lexer": "ipython3",
   "version": "3.12.4"
  }
 },
 "nbformat": 4,
 "nbformat_minor": 5
}
