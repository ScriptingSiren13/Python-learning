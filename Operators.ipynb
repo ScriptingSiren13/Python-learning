{
 "cells": [
  {
   "cell_type": "markdown",
   "id": "a5600435-3bb7-4f1e-8302-9821ebf7bed1",
   "metadata": {},
   "source": [
    "<h1 style='color:#DE006F'>a. Python Arithmetic Operators</h1>"
   ]
  },
  {
   "cell_type": "code",
   "execution_count": 2,
   "id": "1446458c-5362-431a-a581-b9785d3d2800",
   "metadata": {},
   "outputs": [
    {
     "name": "stdout",
     "output_type": "stream",
     "text": [
      "15\n",
      "1\n",
      "56\n",
      "1.1428571428571428\n",
      "1\n",
      "2097152\n",
      "1\n"
     ]
    }
   ],
   "source": [
    "# Arithmetic operators are used with numeric values to perform common mathematical operations:\n",
    "x=8\n",
    "y=7\n",
    "print(x+y) #15\n",
    "print(x-y) #1\n",
    "print(x*y)  #56\n",
    "print(x/y)  #full quotient 1.142\n",
    "print(x%y)  #remainder is 1\n",
    "print(x**y)  #2097152\n",
    "print(x//y)  #1 =The floor division operator ( // ) is primarily used when you require an integer or need to return the smallest integer less than or equal to the input.\n",
    "#  If the operands are both integers, then the output will an integer. If either operand is a float then the output will be a float."
   ]
  },
  {
   "cell_type": "markdown",
   "id": "aa8b2be3-bc2b-46ba-921f-7f3d520d1259",
   "metadata": {},
   "source": [
    "<h1 style='color:#DE006F'>b. Python Assignment Operators</h1>"
   ]
  },
  {
   "cell_type": "code",
   "execution_count": 4,
   "id": "75d509ae-f134-45e0-8863-7e7534fbbb1d",
   "metadata": {},
   "outputs": [
    {
     "name": "stdout",
     "output_type": "stream",
     "text": [
      "8 4 15 1.6666666666666667 2 1 125 1 7 1 0 40\n"
     ]
    }
   ],
   "source": [
    "# Assignment operators are used to assign values to variables:\n",
    "x=y=z=a=b=c=d=e=f=g=h=i=5\n",
    "x+=3  #8\n",
    "y-=1  #4\n",
    "z*=3  #15\n",
    "a/=3  #1.666\n",
    "b%=3  #2\n",
    "c//=3 #1\n",
    "d**=3   #125\n",
    "e&=3  #1\n",
    "f|=3 #7\n",
    "g^=4 #XOR- 1\n",
    "h>>=3  #right shift 0\n",
    "i<<=3 #left shift 40\n",
    "print(x,y,z,a,b,c,d,e,f,g,h,i)"
   ]
  },
  {
   "cell_type": "markdown",
   "id": "b5a025e3-827f-4198-a341-0a3e9c9ab939",
   "metadata": {},
   "source": [
    "<h1 style='color:#DE006F'>c. Python Logical Operators:</h1>"
   ]
  },
  {
   "cell_type": "code",
   "execution_count": 8,
   "id": "07dd8f6e-d83c-4acb-8f6f-441c3f3d26e2",
   "metadata": {},
   "outputs": [
    {
     "name": "stdout",
     "output_type": "stream",
     "text": [
      "x is greater than 10\n",
      "x is not greater than 20\n"
     ]
    }
   ],
   "source": [
    "x=10\n",
    "if x>20 and x<20:\n",
    "    print(\"x is between 20-30\")\n",
    "\n",
    "if x>20 or x>5:\n",
    "    print(\"x is greater than 10\")\n",
    "\n",
    "if not(x>20):\n",
    "    print(\"x is not greater than 20\")"
   ]
  },
  {
   "cell_type": "code",
   "execution_count": 10,
   "id": "812d733f-9628-48fa-b0c2-be7bdb9cb498",
   "metadata": {},
   "outputs": [
    {
     "name": "stdout",
     "output_type": "stream",
     "text": [
      "method called for values -1\n",
      "method called for values 5\n",
      "At least one of them is positive\n"
     ]
    }
   ],
   "source": [
    "# -Order of Precedence of Logical Operators(going from left to right):\n",
    "    \n",
    "def order(x):   #func decleration\n",
    "    print(\"The method/function is being called for value\",+ x)\n",
    "    return True if x>0 else False\n",
    "    \n",
    "a=order     #func assignment\n",
    "b=order\n",
    "c=order\n",
    "\n",
    "if a(-1) or b(5) or c(7):     #func call\n",
    "    print(\"At least one of them is positive\")"
   ]
  },
  {
   "cell_type": "markdown",
   "id": "0e8d744e-66cb-419e-b5c9-00ba7a7442e9",
   "metadata": {},
   "source": [
    "<h1 style='color:#DE006F'>d. Python Comparison operators:</h1>"
   ]
  },
  {
   "cell_type": "code",
   "execution_count": 12,
   "id": "9b6e5ba3-2696-40c1-86e8-1c345f1431dc",
   "metadata": {},
   "outputs": [
    {
     "name": "stdout",
     "output_type": "stream",
     "text": [
      "False\n",
      "True\n",
      "True\n",
      "False\n",
      "True\n",
      "False\n"
     ]
    }
   ],
   "source": [
    "# Comparison operators are used to compare two values\n",
    "x=6\n",
    "y=2\n",
    "print(x==y)  \n",
    "print(x!=y)  \n",
    "print(x>y)   \n",
    "print(x<y)\n",
    "print(x>=y)\n",
    "print(x<=y)"
   ]
  },
  {
   "cell_type": "markdown",
   "id": "008b6869-779f-4783-bcdb-365cb1139d95",
   "metadata": {},
   "source": [
    "<h1 style='color:#DE006F'> e. Python Membership operators:</h1>"
   ]
  },
  {
   "cell_type": "markdown",
   "id": "f8f0e3c2-30b0-4dcc-b452-682be95e3bd2",
   "metadata": {},
   "source": [
    "<h3 style='color:red'>in:</h3>"
   ]
  },
  {
   "cell_type": "code",
   "execution_count": 13,
   "id": "ba7ac1d6-9f52-412b-adc1-30b92c848242",
   "metadata": {},
   "outputs": [
    {
     "name": "stdout",
     "output_type": "stream",
     "text": [
      "overlapping\n",
      "overlapping\n",
      "overlapping\n",
      "overlapping\n",
      "not overlapping\n"
     ]
    }
   ],
   "source": [
    "list1=[2,3,4,5,6]\n",
    "list2=[2,3,4,5,9]\n",
    "for i in list1:\n",
    "    if i in list2:\n",
    "        print(\"overlapping\")\n",
    "    else:\n",
    "        print(\"not overlapping\")"
   ]
  },
  {
   "cell_type": "markdown",
   "id": "6135c8fd-2326-4fbf-b058-81aa620975b9",
   "metadata": {},
   "source": [
    "<h3 style='color:red'>not in:</h3>"
   ]
  },
  {
   "cell_type": "code",
   "execution_count": 14,
   "id": "ebc2b569-8eb4-4d85-94bb-410214776f4b",
   "metadata": {},
   "outputs": [
    {
     "name": "stdout",
     "output_type": "stream",
     "text": [
      "both x and y are in list\n"
     ]
    }
   ],
   "source": [
    "x=2\n",
    "y=4\n",
    "list=[2,4,87]\n",
    "if x not in list:\n",
    "    print(\"x not in list\")\n",
    "elif y not in list:\n",
    "    print(\"y is not in list as well\")\n",
    "elif x and y not in list:\n",
    "    print(\"both x and y are not in list\")\n",
    "else:\n",
    "    print(\"both x and y are in list\")"
   ]
  },
  {
   "cell_type": "markdown",
   "id": "fa45a419-ee4b-4330-ad4f-4ec50125fab3",
   "metadata": {},
   "source": [
    "<h1 style='color:#DE006F'>f. Python Identity operators:</h1>"
   ]
  },
  {
   "cell_type": "markdown",
   "id": "bc31fb9e-3921-4ba5-840b-703d136943d6",
   "metadata": {},
   "source": [
    "<h3 style='color:red'>is:</h3>"
   ]
  },
  {
   "cell_type": "code",
   "execution_count": 15,
   "id": "880305e8-745c-4d66-bcf0-102ec97c7719",
   "metadata": {},
   "outputs": [
    {
     "name": "stdout",
     "output_type": "stream",
     "text": [
      "140703595362936\n",
      "140703595362936\n",
      "id(x)==id(y)\n"
     ]
    }
   ],
   "source": [
    "x=7\n",
    "y=7\n",
    "print(id(x))  #140719202231272\n",
    "print(id(y))  #140719202231272\n",
    "if id(x) is id(y):\n",
    "    print(\"id(x) is id(y)\")\n",
    "elif id(x)==id(y):\n",
    "    print(\"id(x)==id(y)\")   #id(x)==id(y)\n",
    "else:\n",
    "    print(\"nothing\")"
   ]
  },
  {
   "cell_type": "markdown",
   "id": "b4450d8d-9458-4cb2-8157-2803e525f8c2",
   "metadata": {},
   "source": [
    "<h3 style='color:red'>is not</h3>"
   ]
  },
  {
   "cell_type": "code",
   "execution_count": 19,
   "id": "84c3ac1e-dda5-4f7e-983f-ef5537ccf1b0",
   "metadata": {},
   "outputs": [
    {
     "name": "stdout",
     "output_type": "stream",
     "text": [
      "False\n",
      "True\n",
      "False\n",
      "True\n"
     ]
    }
   ],
   "source": [
    "x=[\"Hello\", \"my\", \"dear\"]\n",
    "y=[\"Hello\", \"my\", \"dear\"]\n",
    "z=x\n",
    "\n",
    "print(x is not z)  \n",
    "print(x is not y)  \n",
    "print(x!=y) \n",
    "print(x==y)"
   ]
  },
  {
   "cell_type": "markdown",
   "id": "d0f09dbb-2704-4734-a22e-c492db4739d6",
   "metadata": {},
   "source": [
    "<h1 style='color:#DE006F'> g. Python Bitwise operator:</h1>"
   ]
  },
  {
   "cell_type": "code",
   "execution_count": 21,
   "id": "2163700a-8415-4bb1-9dd2-921a9805def7",
   "metadata": {},
   "outputs": [
    {
     "name": "stdout",
     "output_type": "stream",
     "text": [
      "2\n",
      "7\n",
      "5\n",
      "-4\n",
      "12\n",
      "2\n"
     ]
    }
   ],
   "source": [
    "print(6 & 3)  \n",
    "print(6|3)    \n",
    "print(6^3)    \n",
    "print(~3)     \n",
    "print(3<<2)   \n",
    "print(8>>2)   "
   ]
  },
  {
   "cell_type": "code",
   "execution_count": null,
   "id": "795dacd1-d818-4f82-a127-f70627e5ebc7",
   "metadata": {},
   "outputs": [],
   "source": []
  }
 ],
 "metadata": {
  "kernelspec": {
   "display_name": "Python 3 (ipykernel)",
   "language": "python",
   "name": "python3"
  },
  "language_info": {
   "codemirror_mode": {
    "name": "ipython",
    "version": 3
   },
   "file_extension": ".py",
   "mimetype": "text/x-python",
   "name": "python",
   "nbconvert_exporter": "python",
   "pygments_lexer": "ipython3",
   "version": "3.12.4"
  }
 },
 "nbformat": 4,
 "nbformat_minor": 5
}
