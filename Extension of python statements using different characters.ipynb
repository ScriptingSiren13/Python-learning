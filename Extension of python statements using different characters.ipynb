{
 "cells": [
  {
   "cell_type": "markdown",
   "id": "c31932b0-537d-4e0e-8a38-bdfec9524027",
   "metadata": {},
   "source": [
    "<h1 style=\"color:#DE006F\">USING PARENTHESIS ()</h1>"
   ]
  },
  {
   "cell_type": "code",
   "execution_count": 1,
   "id": "74c42dd4-2f1f-476a-bbf8-539b7fd44ca3",
   "metadata": {},
   "outputs": [
    {
     "data": {
      "text/plain": [
       "(1, 2, 3, 4, 5, 6)"
      ]
     },
     "execution_count": 1,
     "metadata": {},
     "output_type": "execute_result"
    }
   ],
   "source": [
    "result=(1,2,3,\n",
    "       4,5,6)\n",
    "result"
   ]
  },
  {
   "cell_type": "markdown",
   "id": "0363ba13-1af2-4d47-bd6d-a9a7dfbcda52",
   "metadata": {},
   "source": [
    "<H1 style=\"color:#DE006F\">USING BRACES {}</H1>"
   ]
  },
  {
   "cell_type": "code",
   "execution_count": 3,
   "id": "373ce0ca-86a6-45d9-93f4-4427d30196c3",
   "metadata": {},
   "outputs": [
    {
     "data": {
      "text/plain": [
       "{'name': 'isa', 'last-name': 'bella', 'age': 23}"
      ]
     },
     "execution_count": 3,
     "metadata": {},
     "output_type": "execute_result"
    }
   ],
   "source": [
    "dict1={\n",
    "    'name':'isa',\n",
    "    'last-name':'bella',\n",
    "    'age':23\n",
    "}\n",
    "dict1"
   ]
  },
  {
   "cell_type": "markdown",
   "id": "bad52687-ee6f-44d2-aca2-dd2c2999caeb",
   "metadata": {},
   "source": [
    "<h1 style=\"color:#DE006F\">USING SQUARE BRACKETS []</h1>"
   ]
  },
  {
   "cell_type": "code",
   "execution_count": 4,
   "id": "286ac7d6-53b5-45df-9b09-f2babc18cbbd",
   "metadata": {},
   "outputs": [
    {
     "data": {
      "text/plain": [
       "[1, 2, 3, 4, 5, 6]"
      ]
     },
     "execution_count": 4,
     "metadata": {},
     "output_type": "execute_result"
    }
   ],
   "source": [
    "list1=[1,2,3,\n",
    "      4,5,6]\n",
    "list1"
   ]
  },
  {
   "cell_type": "markdown",
   "id": "30eb1999-3da4-4921-841c-3721c2b02f21",
   "metadata": {},
   "source": [
    "<h1 style=\"color:#DE006F\">USING SEMI COLON ;</h1>"
   ]
  },
  {
   "cell_type": "code",
   "execution_count": 5,
   "id": "0d0767ce-8c27-434c-bf23-5ce1cf1e73b1",
   "metadata": {},
   "outputs": [
    {
     "name": "stdout",
     "output_type": "stream",
     "text": [
      "10 15 30\n"
     ]
    }
   ],
   "source": [
    "a=10;b=15;c=30;\n",
    "print(a,b,c)"
   ]
  },
  {
   "cell_type": "markdown",
   "id": "312daaa2-8e77-4a75-91de-1102cb47b002",
   "metadata": {},
   "source": [
    "<h1 style=\"color:#DE006F\">USING CONTINUATION CHARACTER \\</h1>"
   ]
  },
  {
   "cell_type": "code",
   "execution_count": 6,
   "id": "61660473-0609-4b8b-a2e0-da182f89f0b1",
   "metadata": {},
   "outputs": [
    {
     "name": "stdout",
     "output_type": "stream",
     "text": [
      "33\n"
     ]
    }
   ],
   "source": [
    "total=1 + 2 + 4 + 6 + 8 +\\\n",
    "       7+2+3\n",
    "print(total)"
   ]
  },
  {
   "cell_type": "code",
   "execution_count": null,
   "id": "edd8d24d-9201-4315-8405-cecb138f663d",
   "metadata": {},
   "outputs": [],
   "source": []
  }
 ],
 "metadata": {
  "kernelspec": {
   "display_name": "Python 3 (ipykernel)",
   "language": "python",
   "name": "python3"
  },
  "language_info": {
   "codemirror_mode": {
    "name": "ipython",
    "version": 3
   },
   "file_extension": ".py",
   "mimetype": "text/x-python",
   "name": "python",
   "nbconvert_exporter": "python",
   "pygments_lexer": "ipython3",
   "version": "3.12.4"
  }
 },
 "nbformat": 4,
 "nbformat_minor": 5
}
