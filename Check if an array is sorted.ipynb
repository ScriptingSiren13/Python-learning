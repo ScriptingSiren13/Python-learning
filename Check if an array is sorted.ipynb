{
 "cells": [
  {
   "cell_type": "markdown",
   "id": "294aab39-ec7b-4495-ac5a-7e60b86d6c5e",
   "metadata": {},
   "source": [
    "<h3 style=\"color:#DE006F\">FOR A PREDEFINED ARRAY</h3>"
   ]
  },
  {
   "cell_type": "code",
   "execution_count": 3,
   "id": "e8778b0f-227d-4286-8c55-9fa63520cfa1",
   "metadata": {},
   "outputs": [
    {
     "name": "stdout",
     "output_type": "stream",
     "text": [
      "False\n"
     ]
    }
   ],
   "source": [
    "def is_sort(arr):\n",
    "    for i in range(len(arr) -1):\n",
    "        if arr[1] > arr[i]+1:\n",
    "            return False\n",
    "    return True\n",
    "\n",
    "arr=[1,6,2,9]\n",
    "\n",
    "print(is_sort(arr))"
   ]
  },
  {
   "cell_type": "markdown",
   "id": "8cf46951-3e02-4dba-a05e-da83d859b8f3",
   "metadata": {},
   "source": [
    "<h3 style=\"color:#DE006F\">TAKING THE ARRAY ELEMENTS FROM THE USER:</h3>"
   ]
  },
  {
   "cell_type": "code",
   "execution_count": 11,
   "id": "2e954075-380a-4829-bcc5-e25a2fd55cf3",
   "metadata": {},
   "outputs": [
    {
     "name": "stdin",
     "output_type": "stream",
     "text": [
      "enter the elements seperated by spaces 1 2 3 4\n"
     ]
    },
    {
     "name": "stdout",
     "output_type": "stream",
     "text": [
      "True\n"
     ]
    }
   ],
   "source": [
    "def is_sort(arr):\n",
    "    for i in range(len(arr) -1):\n",
    "        if arr[i] > arr[i+1]:\n",
    "            return False;\n",
    "    return True;\n",
    "\n",
    "user_input= input('enter the elements seperated by spaces')\n",
    "arr=list(map(int,user_input.split()))\n",
    "print(is_sort(arr))\n",
    "\n",
    "\n"
   ]
  },
  {
   "cell_type": "code",
   "execution_count": null,
   "id": "62056234-de78-4c8d-924f-2f970f483094",
   "metadata": {},
   "outputs": [],
   "source": []
  }
 ],
 "metadata": {
  "kernelspec": {
   "display_name": "Python 3 (ipykernel)",
   "language": "python",
   "name": "python3"
  },
  "language_info": {
   "codemirror_mode": {
    "name": "ipython",
    "version": 3
   },
   "file_extension": ".py",
   "mimetype": "text/x-python",
   "name": "python",
   "nbconvert_exporter": "python",
   "pygments_lexer": "ipython3",
   "version": "3.12.4"
  }
 },
 "nbformat": 4,
 "nbformat_minor": 5
}
