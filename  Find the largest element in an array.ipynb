{
 "cells": [
  {
   "cell_type": "markdown",
   "id": "200a3ec2-fe38-4a80-8bae-a21b01f58229",
   "metadata": {},
   "source": [
    "<h3 style=\"color:#DE006F\">FOR A PREDEFINED ARRAY</h3>"
   ]
  },
  {
   "cell_type": "code",
   "execution_count": null,
   "id": "8198508e-b66f-4f49-8902-62ae9a523902",
   "metadata": {},
   "outputs": [],
   "source": [
    "def largest_ele(arr):\n",
    "    n=len(arr);\n",
    "    for i in range(n):\n",
    "        for j in range(n-i-1):\n",
    "            if arr[j] > arr[j+1]:\n",
    "                arr[j],arr[j+1] = arr[j+1],arr[j]\n",
    "    return arr, arr[-1]\n",
    "   \n",
    "\n",
    "arr=[1,6,3,7]\n",
    "sorted_array, largest_element=largest_ele(arr)\n",
    "print(sorted_array)\n",
    "print(largest_element)"
   ]
  },
  {
   "cell_type": "markdown",
   "id": "3fb6abd4-9cb0-4f95-97d7-6be1af113fcb",
   "metadata": {},
   "source": [
    "<h3 style=\"color:#DE006F\">TAKING THE ARRAY ELEMENTS FROM THE USER:</h3>"
   ]
  },
  {
   "cell_type": "code",
   "execution_count": 11,
   "id": "80db70d3-7f59-4152-8e61-42ecdf99a7f5",
   "metadata": {},
   "outputs": [
    {
     "name": "stdin",
     "output_type": "stream",
     "text": [
      "enter the elements seperated by spaces 3 1 7 2\n"
     ]
    },
    {
     "name": "stdout",
     "output_type": "stream",
     "text": [
      "[1, 2, 3, 7]\n",
      "7\n"
     ]
    }
   ],
   "source": [
    "def largest_ele(arr):\n",
    "    n=len(arr);\n",
    "    for i in range(n):\n",
    "        for j in range(n-i-1):\n",
    "            if arr[j] > arr[j+1]:\n",
    "                arr[j],arr[j+1]=arr[j+1],arr[j]\n",
    "    return arr, arr[-1];\n",
    "\n",
    "user_input= input('enter the elements seperated by spaces');\n",
    "arr=list(map(int,user_input.split()))\n",
    "sorted_arr,largest_element=largest_ele(arr)\n",
    "print(sorted_arr)\n",
    "print(largest_element)"
   ]
  },
  {
   "cell_type": "code",
   "execution_count": null,
   "id": "1ce21893-cb6c-4115-9736-ee678a8ccf9b",
   "metadata": {},
   "outputs": [],
   "source": []
  }
 ],
 "metadata": {
  "kernelspec": {
   "display_name": "Python 3 (ipykernel)",
   "language": "python",
   "name": "python3"
  },
  "language_info": {
   "codemirror_mode": {
    "name": "ipython",
    "version": 3
   },
   "file_extension": ".py",
   "mimetype": "text/x-python",
   "name": "python",
   "nbconvert_exporter": "python",
   "pygments_lexer": "ipython3",
   "version": "3.12.4"
  }
 },
 "nbformat": 4,
 "nbformat_minor": 5
}
